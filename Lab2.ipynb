{
  "nbformat": 4,
  "nbformat_minor": 0,
  "metadata": {
    "colab": {
      "provenance": []
    },
    "kernelspec": {
      "name": "python3",
      "display_name": "Python 3"
    },
    "language_info": {
      "name": "python"
    }
  },
  "cells": [
    {
      "cell_type": "code",
      "source": [
        "#question 6.1\n",
        "def count_chicken(count):\n",
        "  if count >= 10:\n",
        "    count = \"many\"\n",
        "    print(\"Number of Chicken: {count}\".format(count=count))\n",
        "  else:\n",
        "    print(\"Number of Chicken: {count}\".format(count=count))\n",
        "\n",
        "count_chicken(23)\n",
        "count_chicken(5)\n"
      ],
      "metadata": {
        "colab": {
          "base_uri": "https://localhost:8080/"
        },
        "id": "g9PG6D5CYzrR",
        "outputId": "9815974a-ddac-4d74-e7cc-7a52f2d588e6"
      },
      "execution_count": 10,
      "outputs": [
        {
          "output_type": "stream",
          "name": "stdout",
          "text": [
            "Number of Chicken: many\n",
            "Number of Chicken: 5\n"
          ]
        }
      ]
    },
    {
      "cell_type": "code",
      "source": [
        "#question 6.2\n",
        "def cut_string_on_both_end(s):\n",
        "  size=len(s)\n",
        "  if size<3:\n",
        "    s=\"\"\n",
        "    print(s)\n",
        "  else:\n",
        "    first=s[:3]\n",
        "    last=s[-3:]\n",
        "    s=first+last\n",
        "    print(s)"
      ],
      "metadata": {
        "id": "vlvy5GcYaQNB"
      },
      "execution_count": 11,
      "outputs": []
    },
    {
      "cell_type": "code",
      "source": [
        "s=\"intelligence\"\n",
        "cut_string_on_both_end(s)"
      ],
      "metadata": {
        "colab": {
          "base_uri": "https://localhost:8080/"
        },
        "id": "ChffQhqQbK9w",
        "outputId": "35af31f3-7213-4f4e-a52f-dde23f539210"
      },
      "execution_count": 12,
      "outputs": [
        {
          "output_type": "stream",
          "name": "stdout",
          "text": [
            "intnce\n"
          ]
        }
      ]
    },
    {
      "cell_type": "code",
      "source": [
        "#question 6.3\n",
        "def replace_first_character(s):\n",
        "  first=s[0]\n",
        "  for i in range(1,len(s)):\n",
        "    if s[i]==first.lower():\n",
        "      s=s.replace(s[i],\"@\")\n",
        "  s=first+s[1:]\n",
        "  print(s)"
      ],
      "metadata": {
        "id": "MiYAlBc5bpFs"
      },
      "execution_count": 17,
      "outputs": []
    },
    {
      "cell_type": "code",
      "source": [
        "replace_first_character(\"Ooogle\")"
      ],
      "metadata": {
        "colab": {
          "base_uri": "https://localhost:8080/"
        },
        "id": "HHBSQpQkcjQQ",
        "outputId": "e4c97b2e-37ba-468c-e6c5-4ddc0882a6e0"
      },
      "execution_count": 18,
      "outputs": [
        {
          "output_type": "stream",
          "name": "stdout",
          "text": [
            "O@@gle\n"
          ]
        }
      ]
    },
    {
      "cell_type": "code",
      "source": [
        "#question 6.4\n",
        "def string_jumble(a,b):\n",
        "  x=b[:2]+a[2:]\n",
        "  y=a[:2]+b[2:]\n",
        "  print(x+\" \"+y)"
      ],
      "metadata": {
        "id": "TKhqyUz2dWrs"
      },
      "execution_count": 19,
      "outputs": []
    },
    {
      "cell_type": "code",
      "source": [
        "string_jumble('mix', 'pod')\n",
        "string_jumble('dog', 'dinner')"
      ],
      "metadata": {
        "colab": {
          "base_uri": "https://localhost:8080/",
          "height": 159
        },
        "id": "zKBsk49Weuoc",
        "outputId": "aeabf1c2-ab97-4ff5-8b7f-d1cf78f47b35"
      },
      "execution_count": 6,
      "outputs": [
        {
          "output_type": "error",
          "ename": "NameError",
          "evalue": "name 'string_jumble' is not defined",
          "traceback": [
            "\u001b[0;31m---------------------------------------------------------------------------\u001b[0m",
            "\u001b[0;31mNameError\u001b[0m                                 Traceback (most recent call last)",
            "\u001b[0;32m<ipython-input-6-d1428aacba66>\u001b[0m in \u001b[0;36m<cell line: 1>\u001b[0;34m()\u001b[0m\n\u001b[0;32m----> 1\u001b[0;31m \u001b[0mstring_jumble\u001b[0m\u001b[0;34m(\u001b[0m\u001b[0;34m'mix'\u001b[0m\u001b[0;34m,\u001b[0m \u001b[0;34m'pod'\u001b[0m\u001b[0;34m)\u001b[0m\u001b[0;34m\u001b[0m\u001b[0;34m\u001b[0m\u001b[0m\n\u001b[0m\u001b[1;32m      2\u001b[0m \u001b[0mstring_jumble\u001b[0m\u001b[0;34m(\u001b[0m\u001b[0;34m'dog'\u001b[0m\u001b[0;34m,\u001b[0m \u001b[0;34m'dinner'\u001b[0m\u001b[0;34m)\u001b[0m\u001b[0;34m\u001b[0m\u001b[0;34m\u001b[0m\u001b[0m\n",
            "\u001b[0;31mNameError\u001b[0m: name 'string_jumble' is not defined"
          ]
        }
      ]
    },
    {
      "cell_type": "code",
      "source": [
        "#question 6.5\n",
        "def matching_first_last(l):\n",
        "  count=0\n",
        "  for i in l:\n",
        "    if len(l)>1 and i[0]==i[-1]:\n",
        "      count=count+1\n",
        "  print(count)\n",
        "\n",
        "matching_first_last(['abc', 'xyz', 'aba', '1221'])"
      ],
      "metadata": {
        "colab": {
          "base_uri": "https://localhost:8080/"
        },
        "id": "vOEquWuzfF3Y",
        "outputId": "fd0fbfac-7017-40e1-af38-775b0dc4b56f"
      },
      "execution_count": 5,
      "outputs": [
        {
          "output_type": "stream",
          "name": "stdout",
          "text": [
            "2\n"
          ]
        }
      ]
    },
    {
      "cell_type": "code",
      "source": [
        "#question 6.6\n",
        "def sort_tuple_by_last(t):\n",
        "  for i in range(len(t)-1):\n",
        "    for j in range(len(t)-i-1):\n",
        "      if t[j][-1]>t[j+1][-1]:\n",
        "        temp=t[j]\n",
        "        t[j]=t[j+1]\n",
        "        t[j+1]=temp\n",
        "  print(t)\n",
        "\n",
        "sort_tuple_by_last([(1, 7), (1, 3), (3, 4, 5), (2, 2)])"
      ],
      "metadata": {
        "colab": {
          "base_uri": "https://localhost:8080/"
        },
        "id": "FliS81zw0amC",
        "outputId": "95325c76-08ee-4244-af78-7fce6fb861c9"
      },
      "execution_count": 9,
      "outputs": [
        {
          "output_type": "stream",
          "name": "stdout",
          "text": [
            "[(2, 2), (1, 3), (3, 4, 5), (1, 7)]\n"
          ]
        }
      ]
    },
    {
      "cell_type": "code",
      "source": [
        "#question 6.7\n",
        "employees = ['Kelly', 'Emma', 'John']\n",
        "defaults = {\"designation\": 'Application Developer', \"salary\": 8000}\n",
        "employees_dict={}\n",
        "for i in employees:\n",
        "  employees_dict[i]=defaults\n",
        "print(employees_dict)"
      ],
      "metadata": {
        "colab": {
          "base_uri": "https://localhost:8080/"
        },
        "id": "zjPXsZCvvlt3",
        "outputId": "eea16105-ac53-41d3-9ce2-242fa9a7b34d"
      },
      "execution_count": 7,
      "outputs": [
        {
          "output_type": "stream",
          "name": "stdout",
          "text": [
            "{'Kelly': {'designation': 'Application Developer', 'salary': 8000}, 'Emma': {'designation': 'Application Developer', 'salary': 8000}, 'John': {'designation': 'Application Developer', 'salary': 8000}}\n"
          ]
        }
      ]
    }
  ]
}