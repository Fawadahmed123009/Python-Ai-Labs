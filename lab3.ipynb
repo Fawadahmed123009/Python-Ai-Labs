{
 "cells": [
  {
   "cell_type": "code",
   "execution_count": 1,
   "id": "6ea3e6ff",
   "metadata": {},
   "outputs": [],
   "source": [
    "# Exercise 1\n",
    "def Merge_sorted_lists(l1,l2):\n",
    "  l1.extend(l2)\n",
    "  l1.sort()\n",
    "  return l1"
   ]
  },
  {
   "cell_type": "code",
   "execution_count": 2,
   "id": "6026cba7",
   "metadata": {},
   "outputs": [
    {
     "name": "stdout",
     "output_type": "stream",
     "text": [
      "[1, 3, 4, 5, 6, 8, 9, 10]\n"
     ]
    }
   ],
   "source": [
    "l1=[1,5,6,8]\n",
    "l2=[3,4,9,10]\n",
    "l1=Merge_sorted_lists(l1,l2)\n",
    "print(l1)"
   ]
  },
  {
   "cell_type": "code",
   "execution_count": 3,
   "id": "3e306ea3",
   "metadata": {
    "scrolled": true
   },
   "outputs": [
    {
     "name": "stdout",
     "output_type": "stream",
     "text": [
      "{'Kelly': {'designation': 'Application Developer', 'salary': 8000}, 'Emma': {'designation': 'Application Developer', 'salary': 8000}, 'John': {'designation': 'Application Developer', 'salary': 8000}}\n"
     ]
    }
   ],
   "source": [
    "# Exercise 2\n",
    "employees = ['Kelly', 'Emma', 'John']\n",
    "defaults = {\"designation\": 'Application Developer', \"salary\": 8000}\n",
    "dict1=dict.fromkeys(employees,defaults)\n",
    "print(dict1)"
   ]
  },
  {
   "cell_type": "code",
   "execution_count": 23,
   "id": "b3973591",
   "metadata": {},
   "outputs": [
    {
     "name": "stdout",
     "output_type": "stream",
     "text": [
      "{'age': 25, 'city': 'New york'}\n"
     ]
    }
   ],
   "source": [
    "sampleDict = {\n",
    "\"name\": \"Kelly\",\n",
    "\"age\":25,\n",
    "\"salary\": 8000,\n",
    "\"city\": \"New york\"\n",
    "}\n",
    "keysToRemove = [\"name\", \"salary\"]\n",
    "new_dic={key: value for key, value in sampleDict.items() if key not in keysToRemove}\n",
    "print(new_dic)"
   ]
  },
  {
   "cell_type": "code",
   "execution_count": 10,
   "id": "9f860f0a",
   "metadata": {},
   "outputs": [
    {
     "name": "stdout",
     "output_type": "stream",
     "text": [
      "{'Scala', 'SQL', 'Hadoop', 'Tableau', 'R', 'Java', 'Python', 'SAS', 'Git'}\n",
      "{'Scala', 'Hadoop', 'Tableau', 'R', 'Java', 'SAS'}\n"
     ]
    }
   ],
   "source": [
    "# Exercise 4\n",
    "dataScientist = set(['Python', 'R', 'SQL', 'Git', 'Tableau', 'SAS'])\n",
    "dataEngineer = set(['Python', 'Java', 'Scala', 'Git', 'SQL', 'Hadoop'])\n",
    "union=dataScientist.union(dataEngineer)\n",
    "intersection=dataScientist.intersection(dataEngineer)\n",
    "result=union-intersection\n",
    "print(result)"
   ]
  },
  {
   "cell_type": "code",
   "execution_count": 19,
   "id": "f1c90185",
   "metadata": {},
   "outputs": [
    {
     "name": "stdout",
     "output_type": "stream",
     "text": [
      "2.0\n"
     ]
    }
   ],
   "source": [
    "def division_p_q(p,q):\n",
    "    return p/q\n",
    "\n",
    "p=20\n",
    "q=10\n",
    "try:\n",
    "   print( division_p_q(p,q))\n",
    "    \n",
    "except ZeroDivisionError as z:\n",
    "    print(\"Not Divisible because of error\",z)\n",
    "except:\n",
    "    print(\"Please enter float or integer\")"
   ]
  },
  {
   "cell_type": "code",
   "execution_count": null,
   "id": "0fa8c63e",
   "metadata": {},
   "outputs": [],
   "source": []
  }
 ],
 "metadata": {
  "kernelspec": {
   "display_name": "Python 3",
   "language": "python",
   "name": "python3"
  },
  "language_info": {
   "codemirror_mode": {
    "name": "ipython",
    "version": 3
   },
   "file_extension": ".py",
   "mimetype": "text/x-python",
   "name": "python",
   "nbconvert_exporter": "python",
   "pygments_lexer": "ipython3",
   "version": "3.8.8"
  }
 },
 "nbformat": 4,
 "nbformat_minor": 5
}
